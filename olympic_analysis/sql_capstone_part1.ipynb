{
  "nbformat": 4,
  "nbformat_minor": 0,
  "metadata": {
    "colab": {
      "name": "sql_capstone_part1.ipynb",
      "provenance": []
    },
    "kernelspec": {
      "name": "python3",
      "display_name": "Python 3"
    },
    "language_info": {
      "name": "python"
    }
  },
  "cells": [
    {
      "cell_type": "markdown",
      "metadata": {
        "id": "ULv8x5SumKex"
      },
      "source": [
        "Step 1: Preparing for Your Proposal\n",
        "\n",
        "1. Selected the **Sportstats** dataset. Mainly selected because the dataset is small and hence it will be easier to move data and wont be an issue when loaded into ram compared to the other datasets."
      ]
    },
    {
      "cell_type": "code",
      "metadata": {
        "id": "NzZmU1fmnKqN"
      },
      "source": [
        "!pip install pandasql"
      ],
      "execution_count": null,
      "outputs": []
    },
    {
      "cell_type": "code",
      "metadata": {
        "id": "2Nm_Fi5Dl7XZ"
      },
      "source": [
        "import pandas as pd\n",
        "from pandasql import sqldf\n",
        "pysqldf = lambda q: sqldf(q, globals())\n",
        "\n",
        "athlete_events = pd.read_csv(\"athlete_events.csv\")\n",
        "noc_regions = pd.read_csv(\"noc_regions.csv\")"
      ],
      "execution_count": 4,
      "outputs": []
    },
    {
      "cell_type": "markdown",
      "metadata": {
        "id": "gwNa0HPlr2Kn"
      },
      "source": [
        "### noc_regions dataset"
      ]
    },
    {
      "cell_type": "code",
      "metadata": {
        "colab": {
          "base_uri": "https://localhost:8080/",
          "height": 204
        },
        "id": "IJcpj5BWnRGd",
        "outputId": "acd7907a-c3fd-41b9-817c-1dd3c01ccb0a"
      },
      "source": [
        "pysqldf('''\n",
        "SELECT * \n",
        "from noc_regions\n",
        "limit 5\n",
        "''')"
      ],
      "execution_count": 18,
      "outputs": [
        {
          "output_type": "execute_result",
          "data": {
            "text/html": [
              "<div>\n",
              "<style scoped>\n",
              "    .dataframe tbody tr th:only-of-type {\n",
              "        vertical-align: middle;\n",
              "    }\n",
              "\n",
              "    .dataframe tbody tr th {\n",
              "        vertical-align: top;\n",
              "    }\n",
              "\n",
              "    .dataframe thead th {\n",
              "        text-align: right;\n",
              "    }\n",
              "</style>\n",
              "<table border=\"1\" class=\"dataframe\">\n",
              "  <thead>\n",
              "    <tr style=\"text-align: right;\">\n",
              "      <th></th>\n",
              "      <th>NOC</th>\n",
              "      <th>region</th>\n",
              "      <th>notes</th>\n",
              "    </tr>\n",
              "  </thead>\n",
              "  <tbody>\n",
              "    <tr>\n",
              "      <th>0</th>\n",
              "      <td>AFG</td>\n",
              "      <td>Afghanistan</td>\n",
              "      <td>None</td>\n",
              "    </tr>\n",
              "    <tr>\n",
              "      <th>1</th>\n",
              "      <td>AHO</td>\n",
              "      <td>Curacao</td>\n",
              "      <td>Netherlands Antilles</td>\n",
              "    </tr>\n",
              "    <tr>\n",
              "      <th>2</th>\n",
              "      <td>ALB</td>\n",
              "      <td>Albania</td>\n",
              "      <td>None</td>\n",
              "    </tr>\n",
              "    <tr>\n",
              "      <th>3</th>\n",
              "      <td>ALG</td>\n",
              "      <td>Algeria</td>\n",
              "      <td>None</td>\n",
              "    </tr>\n",
              "    <tr>\n",
              "      <th>4</th>\n",
              "      <td>AND</td>\n",
              "      <td>Andorra</td>\n",
              "      <td>None</td>\n",
              "    </tr>\n",
              "  </tbody>\n",
              "</table>\n",
              "</div>"
            ],
            "text/plain": [
              "   NOC       region                 notes\n",
              "0  AFG  Afghanistan                  None\n",
              "1  AHO      Curacao  Netherlands Antilles\n",
              "2  ALB      Albania                  None\n",
              "3  ALG      Algeria                  None\n",
              "4  AND      Andorra                  None"
            ]
          },
          "metadata": {
            "tags": []
          },
          "execution_count": 18
        }
      ]
    },
    {
      "cell_type": "code",
      "metadata": {
        "colab": {
          "base_uri": "https://localhost:8080/",
          "height": 80
        },
        "id": "y6iT_TK-nuTG",
        "outputId": "2597dce5-ebc6-4d18-897b-c20f3e876287"
      },
      "source": [
        "pysqldf('''\n",
        "SELECT count(*) as count_,\n",
        "count(distinct region) as count_region_,\n",
        "count(distinct noc) as count_noc_,\n",
        "count(distinct notes) as count_notes_\n",
        "from noc_regions\n",
        "''')"
      ],
      "execution_count": 16,
      "outputs": [
        {
          "output_type": "execute_result",
          "data": {
            "text/html": [
              "<div>\n",
              "<style scoped>\n",
              "    .dataframe tbody tr th:only-of-type {\n",
              "        vertical-align: middle;\n",
              "    }\n",
              "\n",
              "    .dataframe tbody tr th {\n",
              "        vertical-align: top;\n",
              "    }\n",
              "\n",
              "    .dataframe thead th {\n",
              "        text-align: right;\n",
              "    }\n",
              "</style>\n",
              "<table border=\"1\" class=\"dataframe\">\n",
              "  <thead>\n",
              "    <tr style=\"text-align: right;\">\n",
              "      <th></th>\n",
              "      <th>count_</th>\n",
              "      <th>count_region_</th>\n",
              "      <th>count_noc_</th>\n",
              "      <th>count_notes_</th>\n",
              "    </tr>\n",
              "  </thead>\n",
              "  <tbody>\n",
              "    <tr>\n",
              "      <th>0</th>\n",
              "      <td>230</td>\n",
              "      <td>206</td>\n",
              "      <td>230</td>\n",
              "      <td>21</td>\n",
              "    </tr>\n",
              "  </tbody>\n",
              "</table>\n",
              "</div>"
            ],
            "text/plain": [
              "   count_  count_region_  count_noc_  count_notes_\n",
              "0     230            206         230            21"
            ]
          },
          "metadata": {
            "tags": []
          },
          "execution_count": 16
        }
      ]
    },
    {
      "cell_type": "code",
      "metadata": {
        "colab": {
          "base_uri": "https://localhost:8080/",
          "height": 142
        },
        "id": "ZKX3B0w7o7kN",
        "outputId": "63635dc2-c52a-4df8-e512-61e7b499513e"
      },
      "source": [
        "pysqldf('''\n",
        "SELECT *\n",
        "from noc_regions as nr\n",
        "WHERE nr.region IS NULL\n",
        "OR nr.NOC IS NULL\n",
        "''')"
      ],
      "execution_count": 14,
      "outputs": [
        {
          "output_type": "execute_result",
          "data": {
            "text/html": [
              "<div>\n",
              "<style scoped>\n",
              "    .dataframe tbody tr th:only-of-type {\n",
              "        vertical-align: middle;\n",
              "    }\n",
              "\n",
              "    .dataframe tbody tr th {\n",
              "        vertical-align: top;\n",
              "    }\n",
              "\n",
              "    .dataframe thead th {\n",
              "        text-align: right;\n",
              "    }\n",
              "</style>\n",
              "<table border=\"1\" class=\"dataframe\">\n",
              "  <thead>\n",
              "    <tr style=\"text-align: right;\">\n",
              "      <th></th>\n",
              "      <th>NOC</th>\n",
              "      <th>region</th>\n",
              "      <th>notes</th>\n",
              "    </tr>\n",
              "  </thead>\n",
              "  <tbody>\n",
              "    <tr>\n",
              "      <th>0</th>\n",
              "      <td>ROT</td>\n",
              "      <td>None</td>\n",
              "      <td>Refugee Olympic Team</td>\n",
              "    </tr>\n",
              "    <tr>\n",
              "      <th>1</th>\n",
              "      <td>TUV</td>\n",
              "      <td>None</td>\n",
              "      <td>Tuvalu</td>\n",
              "    </tr>\n",
              "    <tr>\n",
              "      <th>2</th>\n",
              "      <td>UNK</td>\n",
              "      <td>None</td>\n",
              "      <td>Unknown</td>\n",
              "    </tr>\n",
              "  </tbody>\n",
              "</table>\n",
              "</div>"
            ],
            "text/plain": [
              "   NOC region                 notes\n",
              "0  ROT   None  Refugee Olympic Team\n",
              "1  TUV   None                Tuvalu\n",
              "2  UNK   None               Unknown"
            ]
          },
          "metadata": {
            "tags": []
          },
          "execution_count": 14
        }
      ]
    },
    {
      "cell_type": "code",
      "metadata": {
        "colab": {
          "base_uri": "https://localhost:8080/",
          "height": 80
        },
        "id": "Ry8OWjETnwCx",
        "outputId": "d8455486-3853-4712-d492-7a5b8db01ac1"
      },
      "source": [
        "pysqldf('''\n",
        "SELECT count(*)-count(noc) as null_noc, \n",
        "count(*)-count(region) as null_region,\n",
        "count(*)-count(notes) as null_notes\n",
        "from noc_regions\n",
        "''')"
      ],
      "execution_count": 17,
      "outputs": [
        {
          "output_type": "execute_result",
          "data": {
            "text/html": [
              "<div>\n",
              "<style scoped>\n",
              "    .dataframe tbody tr th:only-of-type {\n",
              "        vertical-align: middle;\n",
              "    }\n",
              "\n",
              "    .dataframe tbody tr th {\n",
              "        vertical-align: top;\n",
              "    }\n",
              "\n",
              "    .dataframe thead th {\n",
              "        text-align: right;\n",
              "    }\n",
              "</style>\n",
              "<table border=\"1\" class=\"dataframe\">\n",
              "  <thead>\n",
              "    <tr style=\"text-align: right;\">\n",
              "      <th></th>\n",
              "      <th>null_noc</th>\n",
              "      <th>null_region</th>\n",
              "      <th>null_notes</th>\n",
              "    </tr>\n",
              "  </thead>\n",
              "  <tbody>\n",
              "    <tr>\n",
              "      <th>0</th>\n",
              "      <td>0</td>\n",
              "      <td>3</td>\n",
              "      <td>209</td>\n",
              "    </tr>\n",
              "  </tbody>\n",
              "</table>\n",
              "</div>"
            ],
            "text/plain": [
              "   null_noc  null_region  null_notes\n",
              "0         0            3         209"
            ]
          },
          "metadata": {
            "tags": []
          },
          "execution_count": 17
        }
      ]
    },
    {
      "cell_type": "code",
      "metadata": {
        "colab": {
          "base_uri": "https://localhost:8080/",
          "height": 483
        },
        "id": "UuCdlXbRnv_4",
        "outputId": "45689076-2533-49b4-d4af-b8ed068307b5"
      },
      "source": [
        "pysqldf('''\n",
        "SELECT\n",
        "region, \n",
        "count(*) as noc_count\n",
        "from noc_regions\n",
        "where region IS NOT NULL\n",
        "GROUP BY region\n",
        "HAVING noc_count>1\n",
        "ORDER BY noc_count DESC\n",
        "''')"
      ],
      "execution_count": 78,
      "outputs": [
        {
          "output_type": "execute_result",
          "data": {
            "text/html": [
              "<div>\n",
              "<style scoped>\n",
              "    .dataframe tbody tr th:only-of-type {\n",
              "        vertical-align: middle;\n",
              "    }\n",
              "\n",
              "    .dataframe tbody tr th {\n",
              "        vertical-align: top;\n",
              "    }\n",
              "\n",
              "    .dataframe thead th {\n",
              "        text-align: right;\n",
              "    }\n",
              "</style>\n",
              "<table border=\"1\" class=\"dataframe\">\n",
              "  <thead>\n",
              "    <tr style=\"text-align: right;\">\n",
              "      <th></th>\n",
              "      <th>region</th>\n",
              "      <th>noc_count</th>\n",
              "    </tr>\n",
              "  </thead>\n",
              "  <tbody>\n",
              "    <tr>\n",
              "      <th>0</th>\n",
              "      <td>Germany</td>\n",
              "      <td>4</td>\n",
              "    </tr>\n",
              "    <tr>\n",
              "      <th>1</th>\n",
              "      <td>Czech Republic</td>\n",
              "      <td>3</td>\n",
              "    </tr>\n",
              "    <tr>\n",
              "      <th>2</th>\n",
              "      <td>Malaysia</td>\n",
              "      <td>3</td>\n",
              "    </tr>\n",
              "    <tr>\n",
              "      <th>3</th>\n",
              "      <td>Russia</td>\n",
              "      <td>3</td>\n",
              "    </tr>\n",
              "    <tr>\n",
              "      <th>4</th>\n",
              "      <td>Serbia</td>\n",
              "      <td>3</td>\n",
              "    </tr>\n",
              "    <tr>\n",
              "      <th>5</th>\n",
              "      <td>Yemen</td>\n",
              "      <td>3</td>\n",
              "    </tr>\n",
              "    <tr>\n",
              "      <th>6</th>\n",
              "      <td>Australia</td>\n",
              "      <td>2</td>\n",
              "    </tr>\n",
              "    <tr>\n",
              "      <th>7</th>\n",
              "      <td>Canada</td>\n",
              "      <td>2</td>\n",
              "    </tr>\n",
              "    <tr>\n",
              "      <th>8</th>\n",
              "      <td>China</td>\n",
              "      <td>2</td>\n",
              "    </tr>\n",
              "    <tr>\n",
              "      <th>9</th>\n",
              "      <td>Greece</td>\n",
              "      <td>2</td>\n",
              "    </tr>\n",
              "    <tr>\n",
              "      <th>10</th>\n",
              "      <td>Syria</td>\n",
              "      <td>2</td>\n",
              "    </tr>\n",
              "    <tr>\n",
              "      <th>11</th>\n",
              "      <td>Trinidad</td>\n",
              "      <td>2</td>\n",
              "    </tr>\n",
              "    <tr>\n",
              "      <th>12</th>\n",
              "      <td>Vietnam</td>\n",
              "      <td>2</td>\n",
              "    </tr>\n",
              "    <tr>\n",
              "      <th>13</th>\n",
              "      <td>Zimbabwe</td>\n",
              "      <td>2</td>\n",
              "    </tr>\n",
              "  </tbody>\n",
              "</table>\n",
              "</div>"
            ],
            "text/plain": [
              "            region  noc_count\n",
              "0          Germany          4\n",
              "1   Czech Republic          3\n",
              "2         Malaysia          3\n",
              "3           Russia          3\n",
              "4           Serbia          3\n",
              "5            Yemen          3\n",
              "6        Australia          2\n",
              "7           Canada          2\n",
              "8            China          2\n",
              "9           Greece          2\n",
              "10           Syria          2\n",
              "11        Trinidad          2\n",
              "12         Vietnam          2\n",
              "13        Zimbabwe          2"
            ]
          },
          "metadata": {
            "tags": []
          },
          "execution_count": 78
        }
      ]
    },
    {
      "cell_type": "markdown",
      "metadata": {
        "id": "5A-JXLGVoyK3"
      },
      "source": [
        "* In noc_regions dataset there are total of 230 rows, with 230 unique NOC code, 206 unique regions, and 21 unique notes.\n",
        "* There are 3/230 null values in region, 209/230 null values in notes, 0/230 null values in NOC.\n",
        "* So we can ignore the notes column because they dont provide that much of an information.\n",
        "* 14 regions have more than 1 noc. Germany has the maximum with 4 noc followed by Czeck, Malaysia, Serbia\n",
        "* The multiple nocs might be because of changes in the country, like for example germany was east germany and west germany before and so on."
      ]
    },
    {
      "cell_type": "markdown",
      "metadata": {
        "id": "9k6Nom8ur7MP"
      },
      "source": [
        "### athlete_events dataset"
      ]
    },
    {
      "cell_type": "code",
      "metadata": {
        "colab": {
          "base_uri": "https://localhost:8080/",
          "height": 289
        },
        "id": "6SrxSalinv9j",
        "outputId": "8a671b9e-3fe4-42e1-b3a7-31cc3c121b10"
      },
      "source": [
        "pysqldf('''\n",
        "SELECT * \n",
        "from athlete_events\n",
        "limit 5\n",
        "''')"
      ],
      "execution_count": 23,
      "outputs": [
        {
          "output_type": "execute_result",
          "data": {
            "text/html": [
              "<div>\n",
              "<style scoped>\n",
              "    .dataframe tbody tr th:only-of-type {\n",
              "        vertical-align: middle;\n",
              "    }\n",
              "\n",
              "    .dataframe tbody tr th {\n",
              "        vertical-align: top;\n",
              "    }\n",
              "\n",
              "    .dataframe thead th {\n",
              "        text-align: right;\n",
              "    }\n",
              "</style>\n",
              "<table border=\"1\" class=\"dataframe\">\n",
              "  <thead>\n",
              "    <tr style=\"text-align: right;\">\n",
              "      <th></th>\n",
              "      <th>ID</th>\n",
              "      <th>Name</th>\n",
              "      <th>Sex</th>\n",
              "      <th>Age</th>\n",
              "      <th>Height</th>\n",
              "      <th>Weight</th>\n",
              "      <th>Team</th>\n",
              "      <th>NOC</th>\n",
              "      <th>Games</th>\n",
              "      <th>Year</th>\n",
              "      <th>Season</th>\n",
              "      <th>City</th>\n",
              "      <th>Sport</th>\n",
              "      <th>Event</th>\n",
              "      <th>Medal</th>\n",
              "    </tr>\n",
              "  </thead>\n",
              "  <tbody>\n",
              "    <tr>\n",
              "      <th>0</th>\n",
              "      <td>1</td>\n",
              "      <td>A Dijiang</td>\n",
              "      <td>M</td>\n",
              "      <td>24.0</td>\n",
              "      <td>180.0</td>\n",
              "      <td>80.0</td>\n",
              "      <td>China</td>\n",
              "      <td>CHN</td>\n",
              "      <td>1992 Summer</td>\n",
              "      <td>1992</td>\n",
              "      <td>Summer</td>\n",
              "      <td>Barcelona</td>\n",
              "      <td>Basketball</td>\n",
              "      <td>Basketball Men's Basketball</td>\n",
              "      <td>None</td>\n",
              "    </tr>\n",
              "    <tr>\n",
              "      <th>1</th>\n",
              "      <td>2</td>\n",
              "      <td>A Lamusi</td>\n",
              "      <td>M</td>\n",
              "      <td>23.0</td>\n",
              "      <td>170.0</td>\n",
              "      <td>60.0</td>\n",
              "      <td>China</td>\n",
              "      <td>CHN</td>\n",
              "      <td>2012 Summer</td>\n",
              "      <td>2012</td>\n",
              "      <td>Summer</td>\n",
              "      <td>London</td>\n",
              "      <td>Judo</td>\n",
              "      <td>Judo Men's Extra-Lightweight</td>\n",
              "      <td>None</td>\n",
              "    </tr>\n",
              "    <tr>\n",
              "      <th>2</th>\n",
              "      <td>3</td>\n",
              "      <td>Gunnar Nielsen Aaby</td>\n",
              "      <td>M</td>\n",
              "      <td>24.0</td>\n",
              "      <td>NaN</td>\n",
              "      <td>NaN</td>\n",
              "      <td>Denmark</td>\n",
              "      <td>DEN</td>\n",
              "      <td>1920 Summer</td>\n",
              "      <td>1920</td>\n",
              "      <td>Summer</td>\n",
              "      <td>Antwerpen</td>\n",
              "      <td>Football</td>\n",
              "      <td>Football Men's Football</td>\n",
              "      <td>None</td>\n",
              "    </tr>\n",
              "    <tr>\n",
              "      <th>3</th>\n",
              "      <td>4</td>\n",
              "      <td>Edgar Lindenau Aabye</td>\n",
              "      <td>M</td>\n",
              "      <td>34.0</td>\n",
              "      <td>NaN</td>\n",
              "      <td>NaN</td>\n",
              "      <td>Denmark/Sweden</td>\n",
              "      <td>DEN</td>\n",
              "      <td>1900 Summer</td>\n",
              "      <td>1900</td>\n",
              "      <td>Summer</td>\n",
              "      <td>Paris</td>\n",
              "      <td>Tug-Of-War</td>\n",
              "      <td>Tug-Of-War Men's Tug-Of-War</td>\n",
              "      <td>Gold</td>\n",
              "    </tr>\n",
              "    <tr>\n",
              "      <th>4</th>\n",
              "      <td>5</td>\n",
              "      <td>Christine Jacoba Aaftink</td>\n",
              "      <td>F</td>\n",
              "      <td>21.0</td>\n",
              "      <td>185.0</td>\n",
              "      <td>82.0</td>\n",
              "      <td>Netherlands</td>\n",
              "      <td>NED</td>\n",
              "      <td>1988 Winter</td>\n",
              "      <td>1988</td>\n",
              "      <td>Winter</td>\n",
              "      <td>Calgary</td>\n",
              "      <td>Speed Skating</td>\n",
              "      <td>Speed Skating Women's 500 metres</td>\n",
              "      <td>None</td>\n",
              "    </tr>\n",
              "  </tbody>\n",
              "</table>\n",
              "</div>"
            ],
            "text/plain": [
              "   ID                      Name  ...                             Event  Medal\n",
              "0   1                 A Dijiang  ...       Basketball Men's Basketball   None\n",
              "1   2                  A Lamusi  ...      Judo Men's Extra-Lightweight   None\n",
              "2   3       Gunnar Nielsen Aaby  ...           Football Men's Football   None\n",
              "3   4      Edgar Lindenau Aabye  ...       Tug-Of-War Men's Tug-Of-War   Gold\n",
              "4   5  Christine Jacoba Aaftink  ...  Speed Skating Women's 500 metres   None\n",
              "\n",
              "[5 rows x 15 columns]"
            ]
          },
          "metadata": {
            "tags": []
          },
          "execution_count": 23
        }
      ]
    },
    {
      "cell_type": "code",
      "metadata": {
        "colab": {
          "base_uri": "https://localhost:8080/",
          "height": 80
        },
        "id": "IQZJmsGQshTG",
        "outputId": "3fc8ff18-3244-4326-8b33-653612081a49"
      },
      "source": [
        "pysqldf('''\n",
        "SELECT count(*) as count_\n",
        "from athlete_events\n",
        "''')"
      ],
      "execution_count": 26,
      "outputs": [
        {
          "output_type": "execute_result",
          "data": {
            "text/html": [
              "<div>\n",
              "<style scoped>\n",
              "    .dataframe tbody tr th:only-of-type {\n",
              "        vertical-align: middle;\n",
              "    }\n",
              "\n",
              "    .dataframe tbody tr th {\n",
              "        vertical-align: top;\n",
              "    }\n",
              "\n",
              "    .dataframe thead th {\n",
              "        text-align: right;\n",
              "    }\n",
              "</style>\n",
              "<table border=\"1\" class=\"dataframe\">\n",
              "  <thead>\n",
              "    <tr style=\"text-align: right;\">\n",
              "      <th></th>\n",
              "      <th>count_</th>\n",
              "    </tr>\n",
              "  </thead>\n",
              "  <tbody>\n",
              "    <tr>\n",
              "      <th>0</th>\n",
              "      <td>271116</td>\n",
              "    </tr>\n",
              "  </tbody>\n",
              "</table>\n",
              "</div>"
            ],
            "text/plain": [
              "   count_\n",
              "0  271116"
            ]
          },
          "metadata": {
            "tags": []
          },
          "execution_count": 26
        }
      ]
    },
    {
      "cell_type": "code",
      "metadata": {
        "colab": {
          "base_uri": "https://localhost:8080/",
          "height": 80
        },
        "id": "qL0smBYOn1bw",
        "outputId": "53c9d9f5-d8d2-497b-ce0b-027fbfac9ba5"
      },
      "source": [
        "pysqldf('''\n",
        "SELECT \n",
        "count(*)-count(name) as null_name,\n",
        "count(*)-count(sex) as null_sex,\n",
        "count(*)-count(age) as null_age,\n",
        "count(*)-count(height) as null_height,\n",
        "count(*)-count(weight) as null_weight,\n",
        "count(*)-count(team) as null_team,\n",
        "count(*)-count(noc) as null_noc,\n",
        "count(*)-count(games) as null_games,\n",
        "count(*)-count(year) as null_year,\n",
        "count(*)-count(season) as null_season,\n",
        "count(*)-count(city) as null_city,\n",
        "count(*)-count(sport) as null_sport,\n",
        "count(*)-count(event) as null_event,\n",
        "count(*)-count(medal) as null_medal\n",
        "from athlete_events\n",
        "''')"
      ],
      "execution_count": 37,
      "outputs": [
        {
          "output_type": "execute_result",
          "data": {
            "text/html": [
              "<div>\n",
              "<style scoped>\n",
              "    .dataframe tbody tr th:only-of-type {\n",
              "        vertical-align: middle;\n",
              "    }\n",
              "\n",
              "    .dataframe tbody tr th {\n",
              "        vertical-align: top;\n",
              "    }\n",
              "\n",
              "    .dataframe thead th {\n",
              "        text-align: right;\n",
              "    }\n",
              "</style>\n",
              "<table border=\"1\" class=\"dataframe\">\n",
              "  <thead>\n",
              "    <tr style=\"text-align: right;\">\n",
              "      <th></th>\n",
              "      <th>null_name</th>\n",
              "      <th>null_sex</th>\n",
              "      <th>null_age</th>\n",
              "      <th>null_height</th>\n",
              "      <th>null_weight</th>\n",
              "      <th>null_team</th>\n",
              "      <th>null_noc</th>\n",
              "      <th>null_games</th>\n",
              "      <th>null_year</th>\n",
              "      <th>null_season</th>\n",
              "      <th>null_city</th>\n",
              "      <th>null_sport</th>\n",
              "      <th>null_event</th>\n",
              "      <th>null_medal</th>\n",
              "    </tr>\n",
              "  </thead>\n",
              "  <tbody>\n",
              "    <tr>\n",
              "      <th>0</th>\n",
              "      <td>0</td>\n",
              "      <td>0</td>\n",
              "      <td>9474</td>\n",
              "      <td>60171</td>\n",
              "      <td>62875</td>\n",
              "      <td>0</td>\n",
              "      <td>0</td>\n",
              "      <td>0</td>\n",
              "      <td>0</td>\n",
              "      <td>0</td>\n",
              "      <td>0</td>\n",
              "      <td>0</td>\n",
              "      <td>0</td>\n",
              "      <td>231333</td>\n",
              "    </tr>\n",
              "  </tbody>\n",
              "</table>\n",
              "</div>"
            ],
            "text/plain": [
              "   null_name  null_sex  null_age  ...  null_sport  null_event  null_medal\n",
              "0          0         0      9474  ...           0           0      231333\n",
              "\n",
              "[1 rows x 14 columns]"
            ]
          },
          "metadata": {
            "tags": []
          },
          "execution_count": 37
        }
      ]
    },
    {
      "cell_type": "code",
      "metadata": {
        "colab": {
          "base_uri": "https://localhost:8080/",
          "height": 204
        },
        "id": "SL8nbCB7wq79",
        "outputId": "2cef9ebe-4cfb-4870-992d-ffc3dd11c0cd"
      },
      "source": [
        "pysqldf('''\n",
        "SELECT \n",
        "games,\n",
        "count(distinct event) as count_event \n",
        "from athlete_events\n",
        "group by games\n",
        "order by count_event desc \n",
        "limit 5\n",
        "''')"
      ],
      "execution_count": 50,
      "outputs": [
        {
          "output_type": "execute_result",
          "data": {
            "text/html": [
              "<div>\n",
              "<style scoped>\n",
              "    .dataframe tbody tr th:only-of-type {\n",
              "        vertical-align: middle;\n",
              "    }\n",
              "\n",
              "    .dataframe tbody tr th {\n",
              "        vertical-align: top;\n",
              "    }\n",
              "\n",
              "    .dataframe thead th {\n",
              "        text-align: right;\n",
              "    }\n",
              "</style>\n",
              "<table border=\"1\" class=\"dataframe\">\n",
              "  <thead>\n",
              "    <tr style=\"text-align: right;\">\n",
              "      <th></th>\n",
              "      <th>Games</th>\n",
              "      <th>count_event</th>\n",
              "    </tr>\n",
              "  </thead>\n",
              "  <tbody>\n",
              "    <tr>\n",
              "      <th>0</th>\n",
              "      <td>2016 Summer</td>\n",
              "      <td>306</td>\n",
              "    </tr>\n",
              "    <tr>\n",
              "      <th>1</th>\n",
              "      <td>2008 Summer</td>\n",
              "      <td>302</td>\n",
              "    </tr>\n",
              "    <tr>\n",
              "      <th>2</th>\n",
              "      <td>2012 Summer</td>\n",
              "      <td>302</td>\n",
              "    </tr>\n",
              "    <tr>\n",
              "      <th>3</th>\n",
              "      <td>2004 Summer</td>\n",
              "      <td>301</td>\n",
              "    </tr>\n",
              "    <tr>\n",
              "      <th>4</th>\n",
              "      <td>2000 Summer</td>\n",
              "      <td>300</td>\n",
              "    </tr>\n",
              "  </tbody>\n",
              "</table>\n",
              "</div>"
            ],
            "text/plain": [
              "         Games  count_event\n",
              "0  2016 Summer          306\n",
              "1  2008 Summer          302\n",
              "2  2012 Summer          302\n",
              "3  2004 Summer          301\n",
              "4  2000 Summer          300"
            ]
          },
          "metadata": {
            "tags": []
          },
          "execution_count": 50
        }
      ]
    },
    {
      "cell_type": "code",
      "metadata": {
        "colab": {
          "base_uri": "https://localhost:8080/",
          "height": 80
        },
        "id": "a3N7_0w1n1e2",
        "outputId": "5413a955-9ced-4414-b289-16f6ab30e84c"
      },
      "source": [
        "pysqldf('''\n",
        "SELECT \n",
        "count(distinct name) as total_name, \n",
        "count(distinct sex) as total_sex ,\n",
        "count(distinct noc) as total_noc ,\n",
        "count(distinct games) as total_games, \n",
        "count(distinct event) as total_event \n",
        "from athlete_events\n",
        "''')"
      ],
      "execution_count": 45,
      "outputs": [
        {
          "output_type": "execute_result",
          "data": {
            "text/html": [
              "<div>\n",
              "<style scoped>\n",
              "    .dataframe tbody tr th:only-of-type {\n",
              "        vertical-align: middle;\n",
              "    }\n",
              "\n",
              "    .dataframe tbody tr th {\n",
              "        vertical-align: top;\n",
              "    }\n",
              "\n",
              "    .dataframe thead th {\n",
              "        text-align: right;\n",
              "    }\n",
              "</style>\n",
              "<table border=\"1\" class=\"dataframe\">\n",
              "  <thead>\n",
              "    <tr style=\"text-align: right;\">\n",
              "      <th></th>\n",
              "      <th>total_name</th>\n",
              "      <th>total_sex</th>\n",
              "      <th>total_noc</th>\n",
              "      <th>total_games</th>\n",
              "      <th>total_event</th>\n",
              "    </tr>\n",
              "  </thead>\n",
              "  <tbody>\n",
              "    <tr>\n",
              "      <th>0</th>\n",
              "      <td>134732</td>\n",
              "      <td>2</td>\n",
              "      <td>230</td>\n",
              "      <td>51</td>\n",
              "      <td>765</td>\n",
              "    </tr>\n",
              "  </tbody>\n",
              "</table>\n",
              "</div>"
            ],
            "text/plain": [
              "   total_name  total_sex  total_noc  total_games  total_event\n",
              "0      134732          2        230           51          765"
            ]
          },
          "metadata": {
            "tags": []
          },
          "execution_count": 45
        }
      ]
    },
    {
      "cell_type": "code",
      "metadata": {
        "colab": {
          "base_uri": "https://localhost:8080/",
          "height": 948
        },
        "id": "nH1IIQkZn1is",
        "outputId": "e2ef8c93-53a7-426c-eefc-fb6fd8336b1a"
      },
      "source": [
        "pysqldf('''\n",
        "SELECT distinct games\n",
        "from athlete_events\n",
        "where games like '%Summer'\n",
        "order by games\n",
        "''')"
      ],
      "execution_count": 48,
      "outputs": [
        {
          "output_type": "execute_result",
          "data": {
            "text/html": [
              "<div>\n",
              "<style scoped>\n",
              "    .dataframe tbody tr th:only-of-type {\n",
              "        vertical-align: middle;\n",
              "    }\n",
              "\n",
              "    .dataframe tbody tr th {\n",
              "        vertical-align: top;\n",
              "    }\n",
              "\n",
              "    .dataframe thead th {\n",
              "        text-align: right;\n",
              "    }\n",
              "</style>\n",
              "<table border=\"1\" class=\"dataframe\">\n",
              "  <thead>\n",
              "    <tr style=\"text-align: right;\">\n",
              "      <th></th>\n",
              "      <th>Games</th>\n",
              "    </tr>\n",
              "  </thead>\n",
              "  <tbody>\n",
              "    <tr>\n",
              "      <th>0</th>\n",
              "      <td>1896 Summer</td>\n",
              "    </tr>\n",
              "    <tr>\n",
              "      <th>1</th>\n",
              "      <td>1900 Summer</td>\n",
              "    </tr>\n",
              "    <tr>\n",
              "      <th>2</th>\n",
              "      <td>1904 Summer</td>\n",
              "    </tr>\n",
              "    <tr>\n",
              "      <th>3</th>\n",
              "      <td>1906 Summer</td>\n",
              "    </tr>\n",
              "    <tr>\n",
              "      <th>4</th>\n",
              "      <td>1908 Summer</td>\n",
              "    </tr>\n",
              "    <tr>\n",
              "      <th>5</th>\n",
              "      <td>1912 Summer</td>\n",
              "    </tr>\n",
              "    <tr>\n",
              "      <th>6</th>\n",
              "      <td>1920 Summer</td>\n",
              "    </tr>\n",
              "    <tr>\n",
              "      <th>7</th>\n",
              "      <td>1924 Summer</td>\n",
              "    </tr>\n",
              "    <tr>\n",
              "      <th>8</th>\n",
              "      <td>1928 Summer</td>\n",
              "    </tr>\n",
              "    <tr>\n",
              "      <th>9</th>\n",
              "      <td>1932 Summer</td>\n",
              "    </tr>\n",
              "    <tr>\n",
              "      <th>10</th>\n",
              "      <td>1936 Summer</td>\n",
              "    </tr>\n",
              "    <tr>\n",
              "      <th>11</th>\n",
              "      <td>1948 Summer</td>\n",
              "    </tr>\n",
              "    <tr>\n",
              "      <th>12</th>\n",
              "      <td>1952 Summer</td>\n",
              "    </tr>\n",
              "    <tr>\n",
              "      <th>13</th>\n",
              "      <td>1956 Summer</td>\n",
              "    </tr>\n",
              "    <tr>\n",
              "      <th>14</th>\n",
              "      <td>1960 Summer</td>\n",
              "    </tr>\n",
              "    <tr>\n",
              "      <th>15</th>\n",
              "      <td>1964 Summer</td>\n",
              "    </tr>\n",
              "    <tr>\n",
              "      <th>16</th>\n",
              "      <td>1968 Summer</td>\n",
              "    </tr>\n",
              "    <tr>\n",
              "      <th>17</th>\n",
              "      <td>1972 Summer</td>\n",
              "    </tr>\n",
              "    <tr>\n",
              "      <th>18</th>\n",
              "      <td>1976 Summer</td>\n",
              "    </tr>\n",
              "    <tr>\n",
              "      <th>19</th>\n",
              "      <td>1980 Summer</td>\n",
              "    </tr>\n",
              "    <tr>\n",
              "      <th>20</th>\n",
              "      <td>1984 Summer</td>\n",
              "    </tr>\n",
              "    <tr>\n",
              "      <th>21</th>\n",
              "      <td>1988 Summer</td>\n",
              "    </tr>\n",
              "    <tr>\n",
              "      <th>22</th>\n",
              "      <td>1992 Summer</td>\n",
              "    </tr>\n",
              "    <tr>\n",
              "      <th>23</th>\n",
              "      <td>1996 Summer</td>\n",
              "    </tr>\n",
              "    <tr>\n",
              "      <th>24</th>\n",
              "      <td>2000 Summer</td>\n",
              "    </tr>\n",
              "    <tr>\n",
              "      <th>25</th>\n",
              "      <td>2004 Summer</td>\n",
              "    </tr>\n",
              "    <tr>\n",
              "      <th>26</th>\n",
              "      <td>2008 Summer</td>\n",
              "    </tr>\n",
              "    <tr>\n",
              "      <th>27</th>\n",
              "      <td>2012 Summer</td>\n",
              "    </tr>\n",
              "    <tr>\n",
              "      <th>28</th>\n",
              "      <td>2016 Summer</td>\n",
              "    </tr>\n",
              "  </tbody>\n",
              "</table>\n",
              "</div>"
            ],
            "text/plain": [
              "          Games\n",
              "0   1896 Summer\n",
              "1   1900 Summer\n",
              "2   1904 Summer\n",
              "3   1906 Summer\n",
              "4   1908 Summer\n",
              "5   1912 Summer\n",
              "6   1920 Summer\n",
              "7   1924 Summer\n",
              "8   1928 Summer\n",
              "9   1932 Summer\n",
              "10  1936 Summer\n",
              "11  1948 Summer\n",
              "12  1952 Summer\n",
              "13  1956 Summer\n",
              "14  1960 Summer\n",
              "15  1964 Summer\n",
              "16  1968 Summer\n",
              "17  1972 Summer\n",
              "18  1976 Summer\n",
              "19  1980 Summer\n",
              "20  1984 Summer\n",
              "21  1988 Summer\n",
              "22  1992 Summer\n",
              "23  1996 Summer\n",
              "24  2000 Summer\n",
              "25  2004 Summer\n",
              "26  2008 Summer\n",
              "27  2012 Summer\n",
              "28  2016 Summer"
            ]
          },
          "metadata": {
            "tags": []
          },
          "execution_count": 48
        }
      ]
    },
    {
      "cell_type": "code",
      "metadata": {
        "colab": {
          "base_uri": "https://localhost:8080/",
          "height": 731
        },
        "id": "ylG7P8B3Di8B",
        "outputId": "c6bd7959-9f7a-4a19-82a8-76e530b719d5"
      },
      "source": [
        "pysqldf('''\n",
        "SELECT distinct games\n",
        "from athlete_events\n",
        "where games like '%Winter'\n",
        "order by games\n",
        "''')"
      ],
      "execution_count": 49,
      "outputs": [
        {
          "output_type": "execute_result",
          "data": {
            "text/html": [
              "<div>\n",
              "<style scoped>\n",
              "    .dataframe tbody tr th:only-of-type {\n",
              "        vertical-align: middle;\n",
              "    }\n",
              "\n",
              "    .dataframe tbody tr th {\n",
              "        vertical-align: top;\n",
              "    }\n",
              "\n",
              "    .dataframe thead th {\n",
              "        text-align: right;\n",
              "    }\n",
              "</style>\n",
              "<table border=\"1\" class=\"dataframe\">\n",
              "  <thead>\n",
              "    <tr style=\"text-align: right;\">\n",
              "      <th></th>\n",
              "      <th>Games</th>\n",
              "    </tr>\n",
              "  </thead>\n",
              "  <tbody>\n",
              "    <tr>\n",
              "      <th>0</th>\n",
              "      <td>1924 Winter</td>\n",
              "    </tr>\n",
              "    <tr>\n",
              "      <th>1</th>\n",
              "      <td>1928 Winter</td>\n",
              "    </tr>\n",
              "    <tr>\n",
              "      <th>2</th>\n",
              "      <td>1932 Winter</td>\n",
              "    </tr>\n",
              "    <tr>\n",
              "      <th>3</th>\n",
              "      <td>1936 Winter</td>\n",
              "    </tr>\n",
              "    <tr>\n",
              "      <th>4</th>\n",
              "      <td>1948 Winter</td>\n",
              "    </tr>\n",
              "    <tr>\n",
              "      <th>5</th>\n",
              "      <td>1952 Winter</td>\n",
              "    </tr>\n",
              "    <tr>\n",
              "      <th>6</th>\n",
              "      <td>1956 Winter</td>\n",
              "    </tr>\n",
              "    <tr>\n",
              "      <th>7</th>\n",
              "      <td>1960 Winter</td>\n",
              "    </tr>\n",
              "    <tr>\n",
              "      <th>8</th>\n",
              "      <td>1964 Winter</td>\n",
              "    </tr>\n",
              "    <tr>\n",
              "      <th>9</th>\n",
              "      <td>1968 Winter</td>\n",
              "    </tr>\n",
              "    <tr>\n",
              "      <th>10</th>\n",
              "      <td>1972 Winter</td>\n",
              "    </tr>\n",
              "    <tr>\n",
              "      <th>11</th>\n",
              "      <td>1976 Winter</td>\n",
              "    </tr>\n",
              "    <tr>\n",
              "      <th>12</th>\n",
              "      <td>1980 Winter</td>\n",
              "    </tr>\n",
              "    <tr>\n",
              "      <th>13</th>\n",
              "      <td>1984 Winter</td>\n",
              "    </tr>\n",
              "    <tr>\n",
              "      <th>14</th>\n",
              "      <td>1988 Winter</td>\n",
              "    </tr>\n",
              "    <tr>\n",
              "      <th>15</th>\n",
              "      <td>1992 Winter</td>\n",
              "    </tr>\n",
              "    <tr>\n",
              "      <th>16</th>\n",
              "      <td>1994 Winter</td>\n",
              "    </tr>\n",
              "    <tr>\n",
              "      <th>17</th>\n",
              "      <td>1998 Winter</td>\n",
              "    </tr>\n",
              "    <tr>\n",
              "      <th>18</th>\n",
              "      <td>2002 Winter</td>\n",
              "    </tr>\n",
              "    <tr>\n",
              "      <th>19</th>\n",
              "      <td>2006 Winter</td>\n",
              "    </tr>\n",
              "    <tr>\n",
              "      <th>20</th>\n",
              "      <td>2010 Winter</td>\n",
              "    </tr>\n",
              "    <tr>\n",
              "      <th>21</th>\n",
              "      <td>2014 Winter</td>\n",
              "    </tr>\n",
              "  </tbody>\n",
              "</table>\n",
              "</div>"
            ],
            "text/plain": [
              "          Games\n",
              "0   1924 Winter\n",
              "1   1928 Winter\n",
              "2   1932 Winter\n",
              "3   1936 Winter\n",
              "4   1948 Winter\n",
              "5   1952 Winter\n",
              "6   1956 Winter\n",
              "7   1960 Winter\n",
              "8   1964 Winter\n",
              "9   1968 Winter\n",
              "10  1972 Winter\n",
              "11  1976 Winter\n",
              "12  1980 Winter\n",
              "13  1984 Winter\n",
              "14  1988 Winter\n",
              "15  1992 Winter\n",
              "16  1994 Winter\n",
              "17  1998 Winter\n",
              "18  2002 Winter\n",
              "19  2006 Winter\n",
              "20  2010 Winter\n",
              "21  2014 Winter"
            ]
          },
          "metadata": {
            "tags": []
          },
          "execution_count": 49
        }
      ]
    },
    {
      "cell_type": "markdown",
      "metadata": {
        "id": "8cAqvdQJt8Nk"
      },
      "source": [
        "* Total of about 271k olympic participants.\n",
        "* 9k nulls in age, 60k height, 62k weights.\n",
        "* Age height and weight not considered for further analysis.\n",
        "* Team, year, season, city, sport is also not required as these might be containing redundant data.\n",
        "* Important columns are **name, sex, noc, games, event, medal**\n",
        "* Consists of last 29 summer olympics and last 22 winter olympics."
      ]
    },
    {
      "cell_type": "code",
      "metadata": {
        "colab": {
          "base_uri": "https://localhost:8080/",
          "height": 419
        },
        "id": "HSpN0HfJn1mk",
        "outputId": "2c915559-324d-44cd-c786-c31627ef39fb"
      },
      "source": [
        "pysqldf('''\n",
        "SELECT \n",
        "games,\n",
        "event,\n",
        "noc,\n",
        "count(medal) as medal_count\n",
        "from athlete_events\n",
        "where medal like 'Gold'\n",
        "group by games, event\n",
        "order by medal_count desc\n",
        "''')"
      ],
      "execution_count": 60,
      "outputs": [
        {
          "output_type": "execute_result",
          "data": {
            "text/html": [
              "<div>\n",
              "<style scoped>\n",
              "    .dataframe tbody tr th:only-of-type {\n",
              "        vertical-align: middle;\n",
              "    }\n",
              "\n",
              "    .dataframe tbody tr th {\n",
              "        vertical-align: top;\n",
              "    }\n",
              "\n",
              "    .dataframe thead th {\n",
              "        text-align: right;\n",
              "    }\n",
              "</style>\n",
              "<table border=\"1\" class=\"dataframe\">\n",
              "  <thead>\n",
              "    <tr style=\"text-align: right;\">\n",
              "      <th></th>\n",
              "      <th>Games</th>\n",
              "      <th>Event</th>\n",
              "      <th>NOC</th>\n",
              "      <th>medal_count</th>\n",
              "    </tr>\n",
              "  </thead>\n",
              "  <tbody>\n",
              "    <tr>\n",
              "      <th>0</th>\n",
              "      <td>1908 Summer</td>\n",
              "      <td>Gymnastics Men's Team All-Around</td>\n",
              "      <td>SWE</td>\n",
              "      <td>38</td>\n",
              "    </tr>\n",
              "    <tr>\n",
              "      <th>1</th>\n",
              "      <td>1920 Summer</td>\n",
              "      <td>Gymnastics Men's Team All-Around</td>\n",
              "      <td>ITA</td>\n",
              "      <td>27</td>\n",
              "    </tr>\n",
              "    <tr>\n",
              "      <th>2</th>\n",
              "      <td>1912 Summer</td>\n",
              "      <td>Gymnastics Men's Team All-Around, Free System</td>\n",
              "      <td>NOR</td>\n",
              "      <td>24</td>\n",
              "    </tr>\n",
              "    <tr>\n",
              "      <th>3</th>\n",
              "      <td>1912 Summer</td>\n",
              "      <td>Gymnastics Men's Team All-Around, Swedish System</td>\n",
              "      <td>SWE</td>\n",
              "      <td>24</td>\n",
              "    </tr>\n",
              "    <tr>\n",
              "      <th>4</th>\n",
              "      <td>1920 Summer</td>\n",
              "      <td>Gymnastics Men's Team All-Around, Swedish System</td>\n",
              "      <td>SWE</td>\n",
              "      <td>24</td>\n",
              "    </tr>\n",
              "    <tr>\n",
              "      <th>...</th>\n",
              "      <td>...</td>\n",
              "      <td>...</td>\n",
              "      <td>...</td>\n",
              "      <td>...</td>\n",
              "    </tr>\n",
              "    <tr>\n",
              "      <th>6141</th>\n",
              "      <td>2016 Summer</td>\n",
              "      <td>Wrestling Women's Flyweight, Freestyle</td>\n",
              "      <td>JPN</td>\n",
              "      <td>1</td>\n",
              "    </tr>\n",
              "    <tr>\n",
              "      <th>6142</th>\n",
              "      <td>2016 Summer</td>\n",
              "      <td>Wrestling Women's Heavyweight, Freestyle</td>\n",
              "      <td>CAN</td>\n",
              "      <td>1</td>\n",
              "    </tr>\n",
              "    <tr>\n",
              "      <th>6143</th>\n",
              "      <td>2016 Summer</td>\n",
              "      <td>Wrestling Women's Light-Heavyweight, Freestyle</td>\n",
              "      <td>JPN</td>\n",
              "      <td>1</td>\n",
              "    </tr>\n",
              "    <tr>\n",
              "      <th>6144</th>\n",
              "      <td>2016 Summer</td>\n",
              "      <td>Wrestling Women's Lightweight, Freestyle</td>\n",
              "      <td>JPN</td>\n",
              "      <td>1</td>\n",
              "    </tr>\n",
              "    <tr>\n",
              "      <th>6145</th>\n",
              "      <td>2016 Summer</td>\n",
              "      <td>Wrestling Women's Middleweight, Freestyle</td>\n",
              "      <td>JPN</td>\n",
              "      <td>1</td>\n",
              "    </tr>\n",
              "  </tbody>\n",
              "</table>\n",
              "<p>6146 rows × 4 columns</p>\n",
              "</div>"
            ],
            "text/plain": [
              "            Games  ... medal_count\n",
              "0     1908 Summer  ...          38\n",
              "1     1920 Summer  ...          27\n",
              "2     1912 Summer  ...          24\n",
              "3     1912 Summer  ...          24\n",
              "4     1920 Summer  ...          24\n",
              "...           ...  ...         ...\n",
              "6141  2016 Summer  ...           1\n",
              "6142  2016 Summer  ...           1\n",
              "6143  2016 Summer  ...           1\n",
              "6144  2016 Summer  ...           1\n",
              "6145  2016 Summer  ...           1\n",
              "\n",
              "[6146 rows x 4 columns]"
            ]
          },
          "metadata": {
            "tags": []
          },
          "execution_count": 60
        }
      ]
    },
    {
      "cell_type": "markdown",
      "metadata": {
        "id": "9rX3VZY7KSxZ"
      },
      "source": [
        "* There are cases when a team got as many medals as 38 like for gymnastics."
      ]
    },
    {
      "cell_type": "code",
      "metadata": {
        "colab": {
          "base_uri": "https://localhost:8080/",
          "height": 660
        },
        "id": "SjB3skfsnvld",
        "outputId": "777439a3-afc8-465e-bcb5-37202334dd2e"
      },
      "source": [
        "import matplotlib.pyplot as plt\n",
        "grouped = athlete_events.groupby('Season')\n",
        "for a,b in grouped:\n",
        "    print(a+'Olympics - Event count across time')\n",
        "    grouped2 = b.groupby('Games').nunique()['Event'].reset_index().sort_values(by='Games',ascending=True)\n",
        "    plt.plot(grouped2['Games'], grouped2['Event'])\n",
        "    plt.xticks(rotation=90)\n",
        "    plt.show()"
      ],
      "execution_count": 89,
      "outputs": [
        {
          "output_type": "stream",
          "text": [
            "SummerOlympics - Event count across time\n"
          ],
          "name": "stdout"
        },
        {
          "output_type": "display_data",
          "data": {
            "image/png": "[encoded data removed]",
            "text/plain": [
              "<Figure size 432x288 with 1 Axes>"
            ]
          },
          "metadata": {
            "tags": [],
            "needs_background": "light"
          }
        },
        {
          "output_type": "stream",
          "text": [
            "WinterOlympics - Event count across time\n"
          ],
          "name": "stdout"
        },
        {
          "output_type": "display_data",
          "data": {
            "image/png": "[encoded data removed]",
            "text/plain": [
              "<Figure size 432x288 with 1 Axes>"
            ]
          },
          "metadata": {
            "tags": [],
            "needs_background": "light"
          }
        }
      ]
    },
    {
      "cell_type": "markdown",
      "metadata": {
        "id": "-DNckFKDMfnJ"
      },
      "source": [
        "![image.png](data:image/png;base64,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)"
      ]
    },
    {
      "cell_type": "markdown",
      "metadata": {
        "id": "y6U4-2khMkL5"
      },
      "source": [
        "\n",
        "# Project Proposal\n",
        "In this project, I would analyze about the woman participation throughout the olympics. \n",
        "\n",
        "Questions\n",
        "Q1: Did the woman participation increase throughout the years?\n",
        "Q2: Is there a difference between ratio in Winter and Summer olympics?\n",
        "Q3: Is the woman participation ratio same across all countries?\n",
        "\n",
        "Hypotheses\n",
        "H1: Yes\n",
        "H2: Both will be same\n",
        "H3: No, the woman participation would be less in strict orthodox countries while it would be greater in free countries.\n",
        "\n",
        "Approach\n",
        "A1: plot graphs suggesting the percent increase in woman events.\n",
        "A2: Corelation coefficient of woman events between winter and summer olympics.\n",
        "A3: check current ratios of participation of different countries."
      ]
    },
    {
      "cell_type": "code",
      "metadata": {
        "id": "gXYg9AqonEwP"
      },
      "source": [
        ""
      ],
      "execution_count": null,
      "outputs": []
    }
  ]
}